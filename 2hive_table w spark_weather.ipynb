{
 "cells": [
  {
   "cell_type": "code",
   "execution_count": 57,
   "id": "governmental-sullivan",
   "metadata": {},
   "outputs": [],
   "source": [
    "from pyspark.sql import SparkSession\n",
    "from pyspark.sql import Row\n",
    "\n",
    "# warehouse_location points to the default location for managed databases and tables\n",
    "warehouse_location = 'hdfs://hdfs-nn:9000/warehouse'\n",
    "\n",
    "spark = SparkSession \\\n",
    "    .builder \\\n",
    "    .appName(\"Python Spark SQL Hive integration TABD project\") \\\n",
    "    .config(\"spark.sql.warehouse.dir\", warehouse_location) \\\n",
    "    .config(\"hive.metastore.uris\", \"thrift://hive-metastore:9083\") \\\n",
    "    .enableHiveSupport() \\\n",
    "    .getOrCreate()"
   ]
  },
  {
   "cell_type": "code",
   "execution_count": 58,
   "id": "dominant-executive",
   "metadata": {},
   "outputs": [
    {
     "name": "stdout",
     "output_type": "stream",
     "text": [
      "+---------+\n",
      "|namespace|\n",
      "+---------+\n",
      "|  default|\n",
      "|     demo|\n",
      "+---------+\n",
      "\n"
     ]
    }
   ],
   "source": [
    "spark.sql(\n",
    "    \"\"\"\n",
    "    SHOW DATABASES\n",
    "    \"\"\"\n",
    ").show()"
   ]
  },
  {
   "cell_type": "code",
   "execution_count": 59,
   "id": "neutral-specialist",
   "metadata": {},
   "outputs": [
    {
     "data": {
      "text/plain": [
       "DataFrame[]"
      ]
     },
     "execution_count": 59,
     "metadata": {},
     "output_type": "execute_result"
    }
   ],
   "source": [
    "spark.sql(\n",
    "    \"\"\"\n",
    "    DROP DATABASE IF EXISTS project_tabd CASCADE\n",
    "    \"\"\"\n",
    ")"
   ]
  },
  {
   "cell_type": "code",
   "execution_count": 60,
   "id": "funny-republican",
   "metadata": {},
   "outputs": [
    {
     "data": {
      "text/plain": [
       "DataFrame[]"
      ]
     },
     "execution_count": 60,
     "metadata": {},
     "output_type": "execute_result"
    }
   ],
   "source": [
    "# you can choose any location in HDFS, just be organized \n",
    "# Your data lake will grow with time and will become a swamp\n",
    "spark.sql(\n",
    "    \"\"\"\n",
    "    CREATE DATABASE project_tabd LOCATION 'hdfs://hdfs-nn:9000/warehouse/tabd.db/'\n",
    "    \"\"\"\n",
    ")"
   ]
  },
  {
   "cell_type": "code",
   "execution_count": 61,
   "id": "outer-reminder",
   "metadata": {},
   "outputs": [
    {
     "name": "stdout",
     "output_type": "stream",
     "text": [
      "+------------+\n",
      "|   namespace|\n",
      "+------------+\n",
      "|     default|\n",
      "|        demo|\n",
      "|project_tabd|\n",
      "+------------+\n",
      "\n"
     ]
    }
   ],
   "source": [
    "spark.sql(\n",
    "    \"\"\"\n",
    "    SHOW DATABASES\n",
    "    \"\"\"\n",
    ").show()"
   ]
  },
  {
   "cell_type": "code",
   "execution_count": 62,
   "id": "massive-throw",
   "metadata": {},
   "outputs": [
    {
     "name": "stdout",
     "output_type": "stream",
     "text": [
      "+--------+---------+-----------+\n",
      "|database|tableName|isTemporary|\n",
      "+--------+---------+-----------+\n",
      "+--------+---------+-----------+\n",
      "\n"
     ]
    }
   ],
   "source": [
    "spark.sql(\n",
    "    \"\"\"\n",
    "    SHOW TABLES FROM project_tabd\n",
    "    \"\"\"\n",
    ").show()"
   ]
  },
  {
   "cell_type": "code",
   "execution_count": 63,
   "id": "solved-learning",
   "metadata": {},
   "outputs": [
    {
     "data": {
      "text/plain": [
       "DataFrame[]"
      ]
     },
     "execution_count": 63,
     "metadata": {},
     "output_type": "execute_result"
    }
   ],
   "source": [
    "spark.sql(\n",
    "    \"\"\"\n",
    "    DROP TABLE IF EXISTS project_tabd.parquet_table\n",
    "    \"\"\"\n",
    ")\n",
    "\n",
    "spark.sql(\n",
    "    \"\"\"\n",
    "    CREATE EXTERNAL TABLE project_tabd.parquet_table_weather (\n",
    "        station_id INT,\n",
    "        month INT,\n",
    "        day INT,\n",
    "        station_name VARCHAR(30),\n",
    "        latitude DECIMAL(10,0),\n",
    "        longitude DECIMAL(10,0),\n",
    "        air_temperature_avg FLOAT,\n",
    "        air_temperature_max FLOAT,\n",
    "        air_temperature_min FLOAT,\n",
    "        rain_precipitation_qty FLOAT,\n",
    "        global_radiation_total FLOAT\n",
    "        \n",
    "    )\n",
    "    STORED AS PARQUET\n",
    "    PARTITIONED BY (\n",
    "        year INT\n",
    "    )\n",
    "    LOCATION 'hdfs://hdfs-nn:9000/warehouse/tabd.db/parquet_table/'\n",
    "    \"\"\"\n",
    ")"
   ]
  },
  {
   "cell_type": "code",
   "execution_count": 64,
   "id": "innovative-commonwealth",
   "metadata": {},
   "outputs": [
    {
     "name": "stdout",
     "output_type": "stream",
     "text": [
      "+------------+--------------------+-----------+\n",
      "|    database|           tableName|isTemporary|\n",
      "+------------+--------------------+-----------+\n",
      "|project_tabd|parquet_table_wea...|      false|\n",
      "+------------+--------------------+-----------+\n",
      "\n"
     ]
    }
   ],
   "source": [
    "spark.sql(\n",
    "    \"\"\"\n",
    "    SHOW TABLES FROM project_tabd\n",
    "    \"\"\"\n",
    ").show()"
   ]
  },
  {
   "cell_type": "code",
   "execution_count": null,
   "id": "disciplinary-squad",
   "metadata": {},
   "outputs": [],
   "source": [
    "# Let's look into HDFS"
   ]
  },
  {
   "cell_type": "code",
   "execution_count": 66,
   "id": "appreciated-theater",
   "metadata": {},
   "outputs": [
    {
     "name": "stdout",
     "output_type": "stream",
     "text": [
      "+----------+-----+---+------------+--------+---------+-------------------+-------------------+-------------------+----------------------+----------------------+----+\n",
      "|station_id|month|day|station_name|latitude|longitude|air_temperature_avg|air_temperature_max|air_temperature_min|rain_precipitation_qty|global_radiation_total|year|\n",
      "+----------+-----+---+------------+--------+---------+-------------------+-------------------+-------------------+----------------------+----------------------+----+\n",
      "+----------+-----+---+------------+--------+---------+-------------------+-------------------+-------------------+----------------------+----------------------+----+\n",
      "\n"
     ]
    }
   ],
   "source": [
    "spark.sql(\n",
    "    \"\"\"\n",
    "    SELECT *\n",
    "    FROM project_tabd.parquet_table_weather\n",
    "    \"\"\"\n",
    ").show()"
   ]
  },
  {
   "cell_type": "code",
   "execution_count": 67,
   "id": "portuguese-bunny",
   "metadata": {},
   "outputs": [
    {
     "data": {
      "text/html": [
       "<div>\n",
       "<style scoped>\n",
       "    .dataframe tbody tr th:only-of-type {\n",
       "        vertical-align: middle;\n",
       "    }\n",
       "\n",
       "    .dataframe tbody tr th {\n",
       "        vertical-align: top;\n",
       "    }\n",
       "\n",
       "    .dataframe thead th {\n",
       "        text-align: right;\n",
       "    }\n",
       "</style>\n",
       "<table border=\"1\" class=\"dataframe\">\n",
       "  <thead>\n",
       "    <tr style=\"text-align: right;\">\n",
       "      <th></th>\n",
       "      <th>col_name</th>\n",
       "      <th>data_type</th>\n",
       "      <th>comment</th>\n",
       "    </tr>\n",
       "  </thead>\n",
       "  <tbody>\n",
       "    <tr>\n",
       "      <th>0</th>\n",
       "      <td>station_id</td>\n",
       "      <td>int</td>\n",
       "      <td>None</td>\n",
       "    </tr>\n",
       "    <tr>\n",
       "      <th>1</th>\n",
       "      <td>month</td>\n",
       "      <td>int</td>\n",
       "      <td>None</td>\n",
       "    </tr>\n",
       "    <tr>\n",
       "      <th>2</th>\n",
       "      <td>day</td>\n",
       "      <td>int</td>\n",
       "      <td>None</td>\n",
       "    </tr>\n",
       "    <tr>\n",
       "      <th>3</th>\n",
       "      <td>station_name</td>\n",
       "      <td>varchar(30)</td>\n",
       "      <td>None</td>\n",
       "    </tr>\n",
       "    <tr>\n",
       "      <th>4</th>\n",
       "      <td>latitude</td>\n",
       "      <td>decimal(10,0)</td>\n",
       "      <td>None</td>\n",
       "    </tr>\n",
       "    <tr>\n",
       "      <th>5</th>\n",
       "      <td>longitude</td>\n",
       "      <td>decimal(10,0)</td>\n",
       "      <td>None</td>\n",
       "    </tr>\n",
       "    <tr>\n",
       "      <th>6</th>\n",
       "      <td>air_temperature_avg</td>\n",
       "      <td>float</td>\n",
       "      <td>None</td>\n",
       "    </tr>\n",
       "    <tr>\n",
       "      <th>7</th>\n",
       "      <td>air_temperature_max</td>\n",
       "      <td>float</td>\n",
       "      <td>None</td>\n",
       "    </tr>\n",
       "    <tr>\n",
       "      <th>8</th>\n",
       "      <td>air_temperature_min</td>\n",
       "      <td>float</td>\n",
       "      <td>None</td>\n",
       "    </tr>\n",
       "    <tr>\n",
       "      <th>9</th>\n",
       "      <td>rain_precipitation_qty</td>\n",
       "      <td>float</td>\n",
       "      <td>None</td>\n",
       "    </tr>\n",
       "    <tr>\n",
       "      <th>10</th>\n",
       "      <td>global_radiation_total</td>\n",
       "      <td>float</td>\n",
       "      <td>None</td>\n",
       "    </tr>\n",
       "    <tr>\n",
       "      <th>11</th>\n",
       "      <td>year</td>\n",
       "      <td>int</td>\n",
       "      <td>None</td>\n",
       "    </tr>\n",
       "    <tr>\n",
       "      <th>12</th>\n",
       "      <td># Partition Information</td>\n",
       "      <td></td>\n",
       "      <td></td>\n",
       "    </tr>\n",
       "    <tr>\n",
       "      <th>13</th>\n",
       "      <td># col_name</td>\n",
       "      <td>data_type</td>\n",
       "      <td>comment</td>\n",
       "    </tr>\n",
       "    <tr>\n",
       "      <th>14</th>\n",
       "      <td>year</td>\n",
       "      <td>int</td>\n",
       "      <td>None</td>\n",
       "    </tr>\n",
       "    <tr>\n",
       "      <th>15</th>\n",
       "      <td></td>\n",
       "      <td></td>\n",
       "      <td></td>\n",
       "    </tr>\n",
       "    <tr>\n",
       "      <th>16</th>\n",
       "      <td># Detailed Table Information</td>\n",
       "      <td></td>\n",
       "      <td></td>\n",
       "    </tr>\n",
       "    <tr>\n",
       "      <th>17</th>\n",
       "      <td>Database</td>\n",
       "      <td>project_tabd</td>\n",
       "      <td></td>\n",
       "    </tr>\n",
       "    <tr>\n",
       "      <th>18</th>\n",
       "      <td>Table</td>\n",
       "      <td>parquet_table_weather</td>\n",
       "      <td></td>\n",
       "    </tr>\n",
       "    <tr>\n",
       "      <th>19</th>\n",
       "      <td>Owner</td>\n",
       "      <td>jovyan</td>\n",
       "      <td></td>\n",
       "    </tr>\n",
       "    <tr>\n",
       "      <th>20</th>\n",
       "      <td>Created Time</td>\n",
       "      <td>Sun Apr 18 22:18:57 UTC 2021</td>\n",
       "      <td></td>\n",
       "    </tr>\n",
       "    <tr>\n",
       "      <th>21</th>\n",
       "      <td>Last Access</td>\n",
       "      <td>UNKNOWN</td>\n",
       "      <td></td>\n",
       "    </tr>\n",
       "    <tr>\n",
       "      <th>22</th>\n",
       "      <td>Created By</td>\n",
       "      <td>Spark 3.1.1</td>\n",
       "      <td></td>\n",
       "    </tr>\n",
       "    <tr>\n",
       "      <th>23</th>\n",
       "      <td>Type</td>\n",
       "      <td>EXTERNAL</td>\n",
       "      <td></td>\n",
       "    </tr>\n",
       "    <tr>\n",
       "      <th>24</th>\n",
       "      <td>Provider</td>\n",
       "      <td>hive</td>\n",
       "      <td></td>\n",
       "    </tr>\n",
       "    <tr>\n",
       "      <th>25</th>\n",
       "      <td>Table Properties</td>\n",
       "      <td>[transient_lastDdlTime=1618784337]</td>\n",
       "      <td></td>\n",
       "    </tr>\n",
       "    <tr>\n",
       "      <th>26</th>\n",
       "      <td>Location</td>\n",
       "      <td>hdfs://hdfs-nn:9000/warehouse/tabd.db/parquet_...</td>\n",
       "      <td></td>\n",
       "    </tr>\n",
       "    <tr>\n",
       "      <th>27</th>\n",
       "      <td>Serde Library</td>\n",
       "      <td>org.apache.hadoop.hive.ql.io.parquet.serde.Par...</td>\n",
       "      <td></td>\n",
       "    </tr>\n",
       "    <tr>\n",
       "      <th>28</th>\n",
       "      <td>InputFormat</td>\n",
       "      <td>org.apache.hadoop.hive.ql.io.parquet.MapredPar...</td>\n",
       "      <td></td>\n",
       "    </tr>\n",
       "    <tr>\n",
       "      <th>29</th>\n",
       "      <td>OutputFormat</td>\n",
       "      <td>org.apache.hadoop.hive.ql.io.parquet.MapredPar...</td>\n",
       "      <td></td>\n",
       "    </tr>\n",
       "    <tr>\n",
       "      <th>30</th>\n",
       "      <td>Storage Properties</td>\n",
       "      <td>[serialization.format=1]</td>\n",
       "      <td></td>\n",
       "    </tr>\n",
       "    <tr>\n",
       "      <th>31</th>\n",
       "      <td>Partition Provider</td>\n",
       "      <td>Catalog</td>\n",
       "      <td></td>\n",
       "    </tr>\n",
       "  </tbody>\n",
       "</table>\n",
       "</div>"
      ],
      "text/plain": [
       "                        col_name  \\\n",
       "0                     station_id   \n",
       "1                          month   \n",
       "2                            day   \n",
       "3                   station_name   \n",
       "4                       latitude   \n",
       "5                      longitude   \n",
       "6            air_temperature_avg   \n",
       "7            air_temperature_max   \n",
       "8            air_temperature_min   \n",
       "9         rain_precipitation_qty   \n",
       "10        global_radiation_total   \n",
       "11                          year   \n",
       "12       # Partition Information   \n",
       "13                    # col_name   \n",
       "14                          year   \n",
       "15                                 \n",
       "16  # Detailed Table Information   \n",
       "17                      Database   \n",
       "18                         Table   \n",
       "19                         Owner   \n",
       "20                  Created Time   \n",
       "21                   Last Access   \n",
       "22                    Created By   \n",
       "23                          Type   \n",
       "24                      Provider   \n",
       "25              Table Properties   \n",
       "26                      Location   \n",
       "27                 Serde Library   \n",
       "28                   InputFormat   \n",
       "29                  OutputFormat   \n",
       "30            Storage Properties   \n",
       "31            Partition Provider   \n",
       "\n",
       "                                            data_type  comment  \n",
       "0                                                 int     None  \n",
       "1                                                 int     None  \n",
       "2                                                 int     None  \n",
       "3                                         varchar(30)     None  \n",
       "4                                       decimal(10,0)     None  \n",
       "5                                       decimal(10,0)     None  \n",
       "6                                               float     None  \n",
       "7                                               float     None  \n",
       "8                                               float     None  \n",
       "9                                               float     None  \n",
       "10                                              float     None  \n",
       "11                                                int     None  \n",
       "12                                                              \n",
       "13                                          data_type  comment  \n",
       "14                                                int     None  \n",
       "15                                                              \n",
       "16                                                              \n",
       "17                                       project_tabd           \n",
       "18                              parquet_table_weather           \n",
       "19                                             jovyan           \n",
       "20                       Sun Apr 18 22:18:57 UTC 2021           \n",
       "21                                            UNKNOWN           \n",
       "22                                        Spark 3.1.1           \n",
       "23                                           EXTERNAL           \n",
       "24                                               hive           \n",
       "25                 [transient_lastDdlTime=1618784337]           \n",
       "26  hdfs://hdfs-nn:9000/warehouse/tabd.db/parquet_...           \n",
       "27  org.apache.hadoop.hive.ql.io.parquet.serde.Par...           \n",
       "28  org.apache.hadoop.hive.ql.io.parquet.MapredPar...           \n",
       "29  org.apache.hadoop.hive.ql.io.parquet.MapredPar...           \n",
       "30                           [serialization.format=1]           \n",
       "31                                            Catalog           "
      ]
     },
     "execution_count": 67,
     "metadata": {},
     "output_type": "execute_result"
    }
   ],
   "source": [
    "spark.sql(\n",
    "    \"\"\"\n",
    "    DESCRIBE FORMATTED project_tabd.parquet_table_weather\n",
    "    \"\"\"\n",
    ").toPandas()"
   ]
  },
  {
   "cell_type": "code",
   "execution_count": null,
   "id": "endless-field",
   "metadata": {},
   "outputs": [],
   "source": [
    "# Let's put the files into HDFS"
   ]
  },
  {
   "cell_type": "code",
   "execution_count": 68,
   "id": "close-structure",
   "metadata": {},
   "outputs": [
    {
     "name": "stdout",
     "output_type": "stream",
     "text": [
      "+----------+-----+---+------------+--------+---------+-------------------+-------------------+-------------------+----------------------+----------------------+----+\n",
      "|station_id|month|day|station_name|latitude|longitude|air_temperature_avg|air_temperature_max|air_temperature_min|rain_precipitation_qty|global_radiation_total|year|\n",
      "+----------+-----+---+------------+--------+---------+-------------------+-------------------+-------------------+----------------------+----------------------+----+\n",
      "+----------+-----+---+------------+--------+---------+-------------------+-------------------+-------------------+----------------------+----------------------+----+\n",
      "\n"
     ]
    }
   ],
   "source": [
    "# recover partitions is needed so that the Hive Metastore (Catalog)\n",
    "# is updated. Otherwise Hive and the querying engines do not know\n",
    "# that there are new parittions in the partitioned table.\n",
    "spark.catalog.recoverPartitions(\"project_tabd.parquet_table_weather\")\n",
    "\n",
    "spark.sql(\n",
    "    \"\"\"\n",
    "    SELECT *\n",
    "    FROM project_tabd.parquet_table_weather\n",
    "    \"\"\"\n",
    ").show()"
   ]
  },
  {
   "cell_type": "code",
   "execution_count": 69,
   "id": "polished-tattoo",
   "metadata": {},
   "outputs": [],
   "source": [
    "spark.stop()"
   ]
  },
  {
   "cell_type": "code",
   "execution_count": null,
   "id": "listed-seafood",
   "metadata": {},
   "outputs": [],
   "source": []
  }
 ],
 "metadata": {
  "kernelspec": {
   "display_name": "Python 3",
   "language": "python",
   "name": "python3"
  },
  "language_info": {
   "codemirror_mode": {
    "name": "ipython",
    "version": 3
   },
   "file_extension": ".py",
   "mimetype": "text/x-python",
   "name": "python",
   "nbconvert_exporter": "python",
   "pygments_lexer": "ipython3",
   "version": "3.8.8"
  }
 },
 "nbformat": 4,
 "nbformat_minor": 5
}
